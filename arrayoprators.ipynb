{
  "cells": [
    {
      "cell_type": "markdown",
      "metadata": {
        "id": "view-in-github",
        "colab_type": "text"
      },
      "source": [
        "<a href=\"https://colab.research.google.com/github/SwethaR1505/ML_PJTS/blob/main/arrayoprators.ipynb\" target=\"_parent\"><img src=\"https://colab.research.google.com/assets/colab-badge.svg\" alt=\"Open In Colab\"/></a>"
      ]
    },
    {
      "cell_type": "code",
      "execution_count": 1,
      "id": "2285f0a2-dcda-41c5-9e47-f598513d6997",
      "metadata": {
        "tags": [],
        "id": "2285f0a2-dcda-41c5-9e47-f598513d6997"
      },
      "outputs": [],
      "source": [
        "import numpy as np\n"
      ]
    },
    {
      "cell_type": "code",
      "execution_count": 2,
      "id": "f85e951c-5b19-44a9-a84a-639795129705",
      "metadata": {
        "tags": [],
        "id": "f85e951c-5b19-44a9-a84a-639795129705"
      },
      "outputs": [],
      "source": [
        "b=np.random.random((3,3))"
      ]
    },
    {
      "cell_type": "code",
      "execution_count": 3,
      "id": "7d28ff46-11f0-44ba-95a0-22a8e98dc12a",
      "metadata": {
        "tags": [],
        "id": "7d28ff46-11f0-44ba-95a0-22a8e98dc12a"
      },
      "outputs": [],
      "source": [
        "c=np.random.random((3,3))"
      ]
    },
    {
      "cell_type": "code",
      "execution_count": 4,
      "id": "09fba549-7a80-4015-a904-d96d2155662d",
      "metadata": {
        "tags": [],
        "colab": {
          "base_uri": "https://localhost:8080/"
        },
        "id": "09fba549-7a80-4015-a904-d96d2155662d",
        "outputId": "fdfa51d3-d4af-4f98-d4a6-087c3826ca70"
      },
      "outputs": [
        {
          "output_type": "execute_result",
          "data": {
            "text/plain": [
              "array([[0.4634772 , 0.29802192, 0.49970748],\n",
              "       [0.62281661, 0.00204901, 0.45844214],\n",
              "       [0.55348073, 0.80319808, 0.27895861]])"
            ]
          },
          "metadata": {},
          "execution_count": 4
        }
      ],
      "source": [
        "b"
      ]
    },
    {
      "cell_type": "code",
      "execution_count": 5,
      "id": "e3931c52-1186-4749-b5f2-28dbfeb06438",
      "metadata": {
        "tags": [],
        "colab": {
          "base_uri": "https://localhost:8080/"
        },
        "id": "e3931c52-1186-4749-b5f2-28dbfeb06438",
        "outputId": "fb64d3fb-2965-497a-d371-eb70c21d54fd"
      },
      "outputs": [
        {
          "output_type": "execute_result",
          "data": {
            "text/plain": [
              "array([[0.21332736, 0.42096375, 0.40758169],\n",
              "       [0.98724201, 0.93048232, 0.65443949],\n",
              "       [0.7787016 , 0.91465215, 0.91929136]])"
            ]
          },
          "metadata": {},
          "execution_count": 5
        }
      ],
      "source": [
        "c"
      ]
    },
    {
      "cell_type": "code",
      "execution_count": 6,
      "id": "e8b0780d-b906-4742-8523-e6a35d397121",
      "metadata": {
        "tags": [],
        "colab": {
          "base_uri": "https://localhost:8080/"
        },
        "id": "e8b0780d-b906-4742-8523-e6a35d397121",
        "outputId": "d86074c3-6490-47d0-ba33-f57a4f1a7d1b"
      },
      "outputs": [
        {
          "output_type": "execute_result",
          "data": {
            "text/plain": [
              "array([[0.67680456, 0.71898567, 0.90728916],\n",
              "       [1.61005863, 0.93253133, 1.11288162],\n",
              "       [1.33218233, 1.71785024, 1.19824997]])"
            ]
          },
          "metadata": {},
          "execution_count": 6
        }
      ],
      "source": [
        "b + c"
      ]
    },
    {
      "cell_type": "code",
      "execution_count": 7,
      "id": "ec5dbacb-01af-4c6b-a5ce-0c243776a572",
      "metadata": {
        "tags": [],
        "colab": {
          "base_uri": "https://localhost:8080/"
        },
        "id": "ec5dbacb-01af-4c6b-a5ce-0c243776a572",
        "outputId": "2e5c7e34-5747-4715-b634-22ba899e620d"
      },
      "outputs": [
        {
          "output_type": "execute_result",
          "data": {
            "text/plain": [
              "array([[ 0.25014985, -0.12294184,  0.09212579],\n",
              "       [-0.3644254 , -0.92843332, -0.19599735],\n",
              "       [-0.22522087, -0.11145407, -0.64033275]])"
            ]
          },
          "metadata": {},
          "execution_count": 7
        }
      ],
      "source": [
        "b -c"
      ]
    },
    {
      "cell_type": "code",
      "execution_count": 8,
      "id": "1227c281-91b1-4527-8ab3-4840c7537571",
      "metadata": {
        "tags": [],
        "colab": {
          "base_uri": "https://localhost:8080/"
        },
        "id": "1227c281-91b1-4527-8ab3-4840c7537571",
        "outputId": "ceb34d86-33ce-42fe-cfe3-f049cdaaf0a8"
      },
      "outputs": [
        {
          "output_type": "execute_result",
          "data": {
            "text/plain": [
              "array([[0.09887237, 0.12545642, 0.20367162],\n",
              "       [0.61487073, 0.00190657, 0.30002264],\n",
              "       [0.43099633, 0.73464686, 0.25644424]])"
            ]
          },
          "metadata": {},
          "execution_count": 8
        }
      ],
      "source": [
        "b*c"
      ]
    },
    {
      "cell_type": "code",
      "execution_count": 9,
      "id": "999af1ad-db64-4c70-b4ca-8fab2f41b64d",
      "metadata": {
        "tags": [],
        "colab": {
          "base_uri": "https://localhost:8080/"
        },
        "id": "999af1ad-db64-4c70-b4ca-8fab2f41b64d",
        "outputId": "e4846890-9ac8-4d1e-8ebb-fd322b4cf041"
      },
      "outputs": [
        {
          "output_type": "execute_result",
          "data": {
            "text/plain": [
              "array([[2.17261026, 0.70795149, 1.22603025],\n",
              "       [0.63086518, 0.00220209, 0.70051112],\n",
              "       [0.71077384, 0.87814595, 0.30344962]])"
            ]
          },
          "metadata": {},
          "execution_count": 9
        }
      ],
      "source": [
        "b/c"
      ]
    },
    {
      "cell_type": "code",
      "execution_count": 10,
      "id": "c95d3bf4-f0bb-4fec-9a2b-d20106fc69de",
      "metadata": {
        "tags": [],
        "colab": {
          "base_uri": "https://localhost:8080/"
        },
        "id": "c95d3bf4-f0bb-4fec-9a2b-d20106fc69de",
        "outputId": "039810b9-272b-4e92-a8fc-1460553d0711"
      },
      "outputs": [
        {
          "output_type": "execute_result",
          "data": {
            "text/plain": [
              "array([[0.03682249, 0.29802192, 0.09212579],\n",
              "       [0.62281661, 0.00204901, 0.45844214],\n",
              "       [0.55348073, 0.80319808, 0.27895861]])"
            ]
          },
          "metadata": {},
          "execution_count": 10
        }
      ],
      "source": [
        "b%c"
      ]
    },
    {
      "cell_type": "code",
      "execution_count": 11,
      "id": "de32a07a-eb26-4120-9b4e-4353e20568d9",
      "metadata": {
        "tags": [],
        "colab": {
          "base_uri": "https://localhost:8080/"
        },
        "id": "de32a07a-eb26-4120-9b4e-4353e20568d9",
        "outputId": "9d5d13d1-c2ba-4dc1-c5c5-f3c9d19532ab"
      },
      "outputs": [
        {
          "output_type": "execute_result",
          "data": {
            "text/plain": [
              "array([[4.68763134, 2.37550144, 2.4534959 ],\n",
              "       [1.01292286, 1.07471144, 1.52802516],\n",
              "       [1.28418896, 1.09331181, 1.08779441]])"
            ]
          },
          "metadata": {},
          "execution_count": 11
        }
      ],
      "source": [
        "1/c"
      ]
    },
    {
      "cell_type": "code",
      "execution_count": 12,
      "id": "a7b6d8f1-c232-4bfd-be0b-d66cb061934e",
      "metadata": {
        "tags": [],
        "colab": {
          "base_uri": "https://localhost:8080/"
        },
        "id": "a7b6d8f1-c232-4bfd-be0b-d66cb061934e",
        "outputId": "99410b2f-790a-4b21-b5e4-228131f00929"
      },
      "outputs": [
        {
          "output_type": "execute_result",
          "data": {
            "text/plain": [
              "array([[  4.31520684,   6.71091586,   4.00234156],\n",
              "       [  3.21121812, 976.08202998,   4.36260071],\n",
              "       [  3.61349528,   2.49004579,   7.16952238]])"
            ]
          },
          "metadata": {},
          "execution_count": 12
        }
      ],
      "source": [
        "2/b"
      ]
    },
    {
      "cell_type": "code",
      "execution_count": 13,
      "id": "3f12718d-1f89-4d21-b850-d1759bd1ffe2",
      "metadata": {
        "tags": [],
        "id": "3f12718d-1f89-4d21-b850-d1759bd1ffe2"
      },
      "outputs": [],
      "source": [
        "b += c #b=b+c"
      ]
    },
    {
      "cell_type": "code",
      "execution_count": 14,
      "id": "27ff1012-ca49-4cab-a014-d33005c068b9",
      "metadata": {
        "tags": [],
        "colab": {
          "base_uri": "https://localhost:8080/"
        },
        "id": "27ff1012-ca49-4cab-a014-d33005c068b9",
        "outputId": "4b460974-9ded-47a1-cf81-ab2385ac1feb"
      },
      "outputs": [
        {
          "output_type": "execute_result",
          "data": {
            "text/plain": [
              "array([[0.67680456, 0.71898567, 0.90728916],\n",
              "       [1.61005863, 0.93253133, 1.11288162],\n",
              "       [1.33218233, 1.71785024, 1.19824997]])"
            ]
          },
          "metadata": {},
          "execution_count": 14
        }
      ],
      "source": [
        "b"
      ]
    },
    {
      "cell_type": "code",
      "execution_count": 15,
      "id": "3b8e6de1-17d0-4059-85ca-d2ae55fe4ae2",
      "metadata": {
        "tags": [],
        "colab": {
          "base_uri": "https://localhost:8080/"
        },
        "id": "3b8e6de1-17d0-4059-85ca-d2ae55fe4ae2",
        "outputId": "e6ac8bae-81ec-4ba1-aa21-d10dae4d8548"
      },
      "outputs": [
        {
          "output_type": "execute_result",
          "data": {
            "text/plain": [
              "array([[0.45806441, 0.51694039, 0.82317363],\n",
              "       [2.59228879, 0.86961468, 1.23850551],\n",
              "       [1.77470976, 2.95100943, 1.43580299]])"
            ]
          },
          "metadata": {},
          "execution_count": 15
        }
      ],
      "source": [
        " b**2"
      ]
    },
    {
      "cell_type": "code",
      "execution_count": 16,
      "id": "1d4dba0d-a6e7-4e96-9743-420067aaca95",
      "metadata": {
        "tags": [],
        "colab": {
          "base_uri": "https://localhost:8080/"
        },
        "id": "1d4dba0d-a6e7-4e96-9743-420067aaca95",
        "outputId": "937b3071-d88e-4456-a86b-67a192b83cb1"
      },
      "outputs": [
        {
          "output_type": "execute_result",
          "data": {
            "text/plain": [
              "0.2758617313096681"
            ]
          },
          "metadata": {},
          "execution_count": 16
        }
      ],
      "source": [
        "0.52522541 *0.52522541"
      ]
    },
    {
      "cell_type": "code",
      "execution_count": 17,
      "id": "a7b23701-880d-43b0-ad50-2666d515905b",
      "metadata": {
        "colab": {
          "base_uri": "https://localhost:8080/"
        },
        "id": "a7b23701-880d-43b0-ad50-2666d515905b",
        "outputId": "f926d9dc-8b5f-4ec5-ce17-bc479f3c3d5d"
      },
      "outputs": [
        {
          "output_type": "execute_result",
          "data": {
            "text/plain": [
              "2.1125656805635686"
            ]
          },
          "metadata": {},
          "execution_count": 17
        }
      ],
      "source": [
        "1.45346678 * 1.45346678"
      ]
    }
  ],
  "metadata": {
    "kernelspec": {
      "display_name": "Python 3 (ipykernel)",
      "language": "python",
      "name": "python3"
    },
    "language_info": {
      "codemirror_mode": {
        "name": "ipython",
        "version": 3
      },
      "file_extension": ".py",
      "mimetype": "text/x-python",
      "name": "python",
      "nbconvert_exporter": "python",
      "pygments_lexer": "ipython3",
      "version": "3.11.5"
    },
    "colab": {
      "provenance": [],
      "include_colab_link": true
    }
  },
  "nbformat": 4,
  "nbformat_minor": 5
}