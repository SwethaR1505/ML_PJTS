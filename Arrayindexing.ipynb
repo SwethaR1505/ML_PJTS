{
  "cells": [
    {
      "cell_type": "markdown",
      "metadata": {
        "id": "view-in-github",
        "colab_type": "text"
      },
      "source": [
        "<a href=\"https://colab.research.google.com/github/SwethaR1505/ML_PJTS/blob/main/Arrayindexing.ipynb\" target=\"_parent\"><img src=\"https://colab.research.google.com/assets/colab-badge.svg\" alt=\"Open In Colab\"/></a>"
      ]
    },
    {
      "cell_type": "code",
      "execution_count": 1,
      "id": "1b64497c-8ead-48a6-afef-947142acb42d",
      "metadata": {
        "tags": [],
        "id": "1b64497c-8ead-48a6-afef-947142acb42d"
      },
      "outputs": [],
      "source": [
        "import numpy as np"
      ]
    },
    {
      "cell_type": "code",
      "execution_count": 2,
      "id": "bbb6b56f-721e-4967-8943-bd9b43c23c88",
      "metadata": {
        "tags": [],
        "id": "bbb6b56f-721e-4967-8943-bd9b43c23c88"
      },
      "outputs": [],
      "source": [
        "ls=[14,34,56,78,99,200,12.4,5,7.8]"
      ]
    },
    {
      "cell_type": "code",
      "execution_count": 3,
      "id": "9e46463f-4495-496f-ade0-faeb0906e0c5",
      "metadata": {
        "tags": [],
        "id": "9e46463f-4495-496f-ade0-faeb0906e0c5"
      },
      "outputs": [],
      "source": [
        "arr=np.array(ls)"
      ]
    },
    {
      "cell_type": "code",
      "execution_count": 4,
      "id": "570d98ac-c44b-4c09-9d21-8754766d2b56",
      "metadata": {
        "tags": [],
        "id": "570d98ac-c44b-4c09-9d21-8754766d2b56",
        "outputId": "6893d815-87d3-4b1b-bf9d-bffb6a2170d5",
        "colab": {
          "base_uri": "https://localhost:8080/"
        }
      },
      "outputs": [
        {
          "output_type": "execute_result",
          "data": {
            "text/plain": [
              "array([ 14. ,  34. ,  56. ,  78. ,  99. , 200. ,  12.4,   5. ,   7.8])"
            ]
          },
          "metadata": {},
          "execution_count": 4
        }
      ],
      "source": [
        "arr"
      ]
    },
    {
      "cell_type": "code",
      "execution_count": 5,
      "id": "4e891e48-8831-4819-aee4-7f98d731ebb7",
      "metadata": {
        "tags": [],
        "id": "4e891e48-8831-4819-aee4-7f98d731ebb7",
        "outputId": "511091c0-b16b-4021-f3a5-16920886ed9a",
        "colab": {
          "base_uri": "https://localhost:8080/"
        }
      },
      "outputs": [
        {
          "output_type": "execute_result",
          "data": {
            "text/plain": [
              "14.0"
            ]
          },
          "metadata": {},
          "execution_count": 5
        }
      ],
      "source": [
        "arr[0]"
      ]
    },
    {
      "cell_type": "code",
      "execution_count": 6,
      "id": "b334b433-2ae5-4c73-a8aa-edc564a04ff4",
      "metadata": {
        "tags": [],
        "id": "b334b433-2ae5-4c73-a8aa-edc564a04ff4",
        "outputId": "570b8c17-3779-4960-e134-762aa84502aa",
        "colab": {
          "base_uri": "https://localhost:8080/"
        }
      },
      "outputs": [
        {
          "output_type": "execute_result",
          "data": {
            "text/plain": [
              "5.0"
            ]
          },
          "metadata": {},
          "execution_count": 6
        }
      ],
      "source": [
        "arr[7]"
      ]
    },
    {
      "cell_type": "code",
      "execution_count": 7,
      "id": "a3b7924a-2d15-4754-b259-76f8c47ceb94",
      "metadata": {
        "tags": [],
        "id": "a3b7924a-2d15-4754-b259-76f8c47ceb94",
        "outputId": "e0846781-d221-4938-c6e3-5358180f55c2",
        "colab": {
          "base_uri": "https://localhost:8080/"
        }
      },
      "outputs": [
        {
          "output_type": "execute_result",
          "data": {
            "text/plain": [
              "(9,)"
            ]
          },
          "metadata": {},
          "execution_count": 7
        }
      ],
      "source": [
        "arr.shape"
      ]
    },
    {
      "cell_type": "code",
      "execution_count": 8,
      "id": "7eb519f2-0a09-43d3-96ba-bbd609537d71",
      "metadata": {
        "tags": [],
        "id": "7eb519f2-0a09-43d3-96ba-bbd609537d71",
        "outputId": "4f6a8baa-4a12-42f8-b4f8-ac84897f6dc5",
        "colab": {
          "base_uri": "https://localhost:8080/"
        }
      },
      "outputs": [
        {
          "output_type": "execute_result",
          "data": {
            "text/plain": [
              "array([56., 78., 99.])"
            ]
          },
          "metadata": {},
          "execution_count": 8
        }
      ],
      "source": [
        "arr[2:5]"
      ]
    },
    {
      "cell_type": "code",
      "execution_count": 9,
      "id": "063503ca-5aaa-431c-ad3c-f966d864d39b",
      "metadata": {
        "tags": [],
        "id": "063503ca-5aaa-431c-ad3c-f966d864d39b",
        "outputId": "1a3c3b76-8fcd-44d5-cad0-8b2602f9c1e6",
        "colab": {
          "base_uri": "https://localhost:8080/"
        }
      },
      "outputs": [
        {
          "output_type": "execute_result",
          "data": {
            "text/plain": [
              "array([ 78. ,  99. , 200. ,  12.4,   5. ])"
            ]
          },
          "metadata": {},
          "execution_count": 9
        }
      ],
      "source": [
        "arr[3:8] #arr[a:b]"
      ]
    },
    {
      "cell_type": "code",
      "execution_count": 10,
      "id": "00186219-b793-4aa2-9872-6571e60c66c5",
      "metadata": {
        "tags": [],
        "id": "00186219-b793-4aa2-9872-6571e60c66c5",
        "outputId": "6fc1d455-ca56-4aac-eddb-d7e0504119eb",
        "colab": {
          "base_uri": "https://localhost:8080/"
        }
      },
      "outputs": [
        {
          "output_type": "execute_result",
          "data": {
            "text/plain": [
              "56.0"
            ]
          },
          "metadata": {},
          "execution_count": 10
        }
      ],
      "source": [
        "arr[2]"
      ]
    },
    {
      "cell_type": "code",
      "execution_count": 11,
      "id": "e3268d41-8642-41ed-80e6-06d24fb307d9",
      "metadata": {
        "tags": [],
        "id": "e3268d41-8642-41ed-80e6-06d24fb307d9"
      },
      "outputs": [],
      "source": [
        "arr[1:3]=44"
      ]
    },
    {
      "cell_type": "code",
      "execution_count": 12,
      "id": "c50360e4-3d48-4685-a5e8-05d3fd4115c0",
      "metadata": {
        "tags": [],
        "id": "c50360e4-3d48-4685-a5e8-05d3fd4115c0",
        "outputId": "42b53896-cee7-49e7-b3d2-ea185dd2d7f3",
        "colab": {
          "base_uri": "https://localhost:8080/"
        }
      },
      "outputs": [
        {
          "output_type": "execute_result",
          "data": {
            "text/plain": [
              "array([ 14. ,  44. ,  44. ,  78. ,  99. , 200. ,  12.4,   5. ,   7.8])"
            ]
          },
          "metadata": {},
          "execution_count": 12
        }
      ],
      "source": [
        "arr"
      ]
    },
    {
      "cell_type": "code",
      "execution_count": 13,
      "id": "8470e55b-105c-4473-bbb0-20b157d21935",
      "metadata": {
        "tags": [],
        "id": "8470e55b-105c-4473-bbb0-20b157d21935"
      },
      "outputs": [],
      "source": [
        "array_slice=arr[3:8]"
      ]
    },
    {
      "cell_type": "code",
      "execution_count": 14,
      "id": "d26dc149-bc6e-452f-8f8b-8e48de383c42",
      "metadata": {
        "tags": [],
        "id": "d26dc149-bc6e-452f-8f8b-8e48de383c42",
        "outputId": "d63987cb-f331-4cc0-d2b2-46470accae13",
        "colab": {
          "base_uri": "https://localhost:8080/"
        }
      },
      "outputs": [
        {
          "output_type": "execute_result",
          "data": {
            "text/plain": [
              "array([ 78. ,  99. , 200. ,  12.4,   5. ])"
            ]
          },
          "metadata": {},
          "execution_count": 14
        }
      ],
      "source": [
        "array_slice"
      ]
    },
    {
      "cell_type": "code",
      "execution_count": 15,
      "id": "c2dec2a9-f7cc-4b1b-9c60-1adace3eee68",
      "metadata": {
        "tags": [],
        "id": "c2dec2a9-f7cc-4b1b-9c60-1adace3eee68",
        "outputId": "f0392cec-5a2a-4c2d-b415-0f75cfd0a33f",
        "colab": {
          "base_uri": "https://localhost:8080/"
        }
      },
      "outputs": [
        {
          "output_type": "execute_result",
          "data": {
            "text/plain": [
              "array([ 99. , 200. ,  12.4,   5. ])"
            ]
          },
          "metadata": {},
          "execution_count": 15
        }
      ],
      "source": [
        "array_slice[1:]"
      ]
    },
    {
      "cell_type": "code",
      "execution_count": 16,
      "id": "a7af3467-e016-4ed5-95eb-53e1304cb7a3",
      "metadata": {
        "tags": [],
        "id": "a7af3467-e016-4ed5-95eb-53e1304cb7a3"
      },
      "outputs": [],
      "source": [
        "array_slice[:]=-1"
      ]
    },
    {
      "cell_type": "code",
      "execution_count": 17,
      "id": "e9be7e1e-3dc1-4709-ac10-7209dc2fd745",
      "metadata": {
        "tags": [],
        "id": "e9be7e1e-3dc1-4709-ac10-7209dc2fd745",
        "outputId": "1537f0d8-d3f3-4db0-9426-bc80a2f180c7",
        "colab": {
          "base_uri": "https://localhost:8080/"
        }
      },
      "outputs": [
        {
          "output_type": "execute_result",
          "data": {
            "text/plain": [
              "array([-1., -1., -1., -1., -1.])"
            ]
          },
          "metadata": {},
          "execution_count": 17
        }
      ],
      "source": [
        "array_slice"
      ]
    },
    {
      "cell_type": "code",
      "execution_count": 18,
      "id": "154fac9d-59b6-4198-847e-b8d88f8d644d",
      "metadata": {
        "tags": [],
        "id": "154fac9d-59b6-4198-847e-b8d88f8d644d",
        "outputId": "44d59aaa-1d30-47fb-f208-5f9173eab831",
        "colab": {
          "base_uri": "https://localhost:8080/"
        }
      },
      "outputs": [
        {
          "output_type": "execute_result",
          "data": {
            "text/plain": [
              "array([14. , 44. , 44. , -1. , -1. , -1. , -1. , -1. ,  7.8])"
            ]
          },
          "metadata": {},
          "execution_count": 18
        }
      ],
      "source": [
        "arr"
      ]
    },
    {
      "cell_type": "code",
      "execution_count": 19,
      "id": "b1766bc7-a2f7-40b6-984f-af98137aff94",
      "metadata": {
        "tags": [],
        "id": "b1766bc7-a2f7-40b6-984f-af98137aff94"
      },
      "outputs": [],
      "source": [
        "arrw=arr.copy()"
      ]
    },
    {
      "cell_type": "code",
      "execution_count": 20,
      "id": "bcef4ef2-307f-4a08-8e9f-26285f95d853",
      "metadata": {
        "tags": [],
        "id": "bcef4ef2-307f-4a08-8e9f-26285f95d853"
      },
      "outputs": [],
      "source": [
        "arrw[3]=56"
      ]
    },
    {
      "cell_type": "code",
      "execution_count": 21,
      "id": "3d327e20-9041-4c91-8280-dc1d7a9d63ec",
      "metadata": {
        "tags": [],
        "id": "3d327e20-9041-4c91-8280-dc1d7a9d63ec",
        "outputId": "9d29b62e-79de-48af-d752-a444f5db052a",
        "colab": {
          "base_uri": "https://localhost:8080/"
        }
      },
      "outputs": [
        {
          "output_type": "execute_result",
          "data": {
            "text/plain": [
              "array([14. , 44. , 44. , 56. , -1. , -1. , -1. , -1. ,  7.8])"
            ]
          },
          "metadata": {},
          "execution_count": 21
        }
      ],
      "source": [
        "arrw"
      ]
    },
    {
      "cell_type": "code",
      "execution_count": 22,
      "id": "21e351af-c70e-4b1a-8ef8-83fcfc3e3e92",
      "metadata": {
        "tags": [],
        "id": "21e351af-c70e-4b1a-8ef8-83fcfc3e3e92"
      },
      "outputs": [],
      "source": [
        "arr=np.arange(90)"
      ]
    },
    {
      "cell_type": "code",
      "execution_count": 23,
      "id": "46d2ffbe-645e-413b-a3df-d0010f1c01ee",
      "metadata": {
        "tags": [],
        "id": "46d2ffbe-645e-413b-a3df-d0010f1c01ee",
        "outputId": "72231f8a-701a-4091-d551-0791660f7133",
        "colab": {
          "base_uri": "https://localhost:8080/"
        }
      },
      "outputs": [
        {
          "output_type": "execute_result",
          "data": {
            "text/plain": [
              "array([ 0,  1,  2,  3,  4,  5,  6,  7,  8,  9, 10, 11, 12, 13, 14, 15, 16,\n",
              "       17, 18, 19, 20, 21, 22, 23, 24, 25, 26, 27, 28, 29, 30, 31, 32, 33,\n",
              "       34, 35, 36, 37, 38, 39, 40, 41, 42, 43, 44, 45, 46, 47, 48, 49, 50,\n",
              "       51, 52, 53, 54, 55, 56, 57, 58, 59, 60, 61, 62, 63, 64, 65, 66, 67,\n",
              "       68, 69, 70, 71, 72, 73, 74, 75, 76, 77, 78, 79, 80, 81, 82, 83, 84,\n",
              "       85, 86, 87, 88, 89])"
            ]
          },
          "metadata": {},
          "execution_count": 23
        }
      ],
      "source": [
        "arr"
      ]
    },
    {
      "cell_type": "code",
      "execution_count": 24,
      "id": "eabe710a-4dec-4182-86b7-d339a5bd95f8",
      "metadata": {
        "tags": [],
        "id": "eabe710a-4dec-4182-86b7-d339a5bd95f8"
      },
      "outputs": [],
      "source": [
        "arr=arr.reshape(9,10)"
      ]
    },
    {
      "cell_type": "code",
      "execution_count": 25,
      "id": "0ceae104-0e27-4afe-b1e6-be0b45755ba2",
      "metadata": {
        "tags": [],
        "id": "0ceae104-0e27-4afe-b1e6-be0b45755ba2",
        "outputId": "53a8f9e2-891c-4a92-fe11-2bce699c6f91",
        "colab": {
          "base_uri": "https://localhost:8080/"
        }
      },
      "outputs": [
        {
          "output_type": "execute_result",
          "data": {
            "text/plain": [
              "array([[ 0,  1,  2,  3,  4,  5,  6,  7,  8,  9],\n",
              "       [10, 11, 12, 13, 14, 15, 16, 17, 18, 19],\n",
              "       [20, 21, 22, 23, 24, 25, 26, 27, 28, 29],\n",
              "       [30, 31, 32, 33, 34, 35, 36, 37, 38, 39],\n",
              "       [40, 41, 42, 43, 44, 45, 46, 47, 48, 49],\n",
              "       [50, 51, 52, 53, 54, 55, 56, 57, 58, 59],\n",
              "       [60, 61, 62, 63, 64, 65, 66, 67, 68, 69],\n",
              "       [70, 71, 72, 73, 74, 75, 76, 77, 78, 79],\n",
              "       [80, 81, 82, 83, 84, 85, 86, 87, 88, 89]])"
            ]
          },
          "metadata": {},
          "execution_count": 25
        }
      ],
      "source": [
        "arr"
      ]
    },
    {
      "cell_type": "code",
      "execution_count": 26,
      "id": "2ed230bc-0d20-4a37-bece-aefbf5acc50b",
      "metadata": {
        "tags": [],
        "id": "2ed230bc-0d20-4a37-bece-aefbf5acc50b",
        "outputId": "d5df84f5-dcb2-406d-c666-672d5e123540",
        "colab": {
          "base_uri": "https://localhost:8080/"
        }
      },
      "outputs": [
        {
          "output_type": "execute_result",
          "data": {
            "text/plain": [
              "(9, 10)"
            ]
          },
          "metadata": {},
          "execution_count": 26
        }
      ],
      "source": [
        "arr.shape"
      ]
    },
    {
      "cell_type": "code",
      "execution_count": 27,
      "id": "785c12a9-de15-403b-aee1-59a716742630",
      "metadata": {
        "tags": [],
        "id": "785c12a9-de15-403b-aee1-59a716742630",
        "outputId": "b6ab4dc2-cc25-4d55-bdea-5e3ec0381a7c",
        "colab": {
          "base_uri": "https://localhost:8080/"
        }
      },
      "outputs": [
        {
          "output_type": "execute_result",
          "data": {
            "text/plain": [
              "11"
            ]
          },
          "metadata": {},
          "execution_count": 27
        }
      ],
      "source": [
        "arr[1,1]"
      ]
    },
    {
      "cell_type": "code",
      "execution_count": 28,
      "id": "8056a000-ac0f-4a92-a87f-746d017af20e",
      "metadata": {
        "tags": [],
        "id": "8056a000-ac0f-4a92-a87f-746d017af20e",
        "outputId": "41994519-8a39-4260-c677-2953cf52b6a1",
        "colab": {
          "base_uri": "https://localhost:8080/"
        }
      },
      "outputs": [
        {
          "output_type": "execute_result",
          "data": {
            "text/plain": [
              "23"
            ]
          },
          "metadata": {},
          "execution_count": 28
        }
      ],
      "source": [
        "arr[2,3]"
      ]
    },
    {
      "cell_type": "code",
      "execution_count": 29,
      "id": "b53f8d4d-1a33-4ad6-9086-b1694e9f6e33",
      "metadata": {
        "tags": [],
        "id": "b53f8d4d-1a33-4ad6-9086-b1694e9f6e33",
        "outputId": "17789969-7564-4b0e-df60-186b14d6c2a6",
        "colab": {
          "base_uri": "https://localhost:8080/"
        }
      },
      "outputs": [
        {
          "output_type": "execute_result",
          "data": {
            "text/plain": [
              "55"
            ]
          },
          "metadata": {},
          "execution_count": 29
        }
      ],
      "source": [
        "arr[5,5]"
      ]
    },
    {
      "cell_type": "code",
      "execution_count": 30,
      "id": "1788717a-c0db-4a69-a892-ccdbdd61223d",
      "metadata": {
        "tags": [],
        "id": "1788717a-c0db-4a69-a892-ccdbdd61223d",
        "outputId": "93553c02-3573-46f1-ad91-a5fdbab6235b",
        "colab": {
          "base_uri": "https://localhost:8080/"
        }
      },
      "outputs": [
        {
          "output_type": "execute_result",
          "data": {
            "text/plain": [
              "67"
            ]
          },
          "metadata": {},
          "execution_count": 30
        }
      ],
      "source": [
        "arr[6,7]"
      ]
    },
    {
      "cell_type": "code",
      "execution_count": 31,
      "id": "bbcf71b2-30d5-4a72-b276-99f3a38aaca0",
      "metadata": {
        "tags": [],
        "id": "bbcf71b2-30d5-4a72-b276-99f3a38aaca0",
        "outputId": "2f2c3169-2c89-4c6e-fc1e-75f71ba2549e",
        "colab": {
          "base_uri": "https://localhost:8080/"
        }
      },
      "outputs": [
        {
          "output_type": "execute_result",
          "data": {
            "text/plain": [
              "14"
            ]
          },
          "metadata": {},
          "execution_count": 31
        }
      ],
      "source": [
        "# multidimensional arrays\n",
        "arr[1][4]\n"
      ]
    },
    {
      "cell_type": "code",
      "execution_count": 32,
      "id": "3d6b2253-09e4-4cf0-99b1-227f9ba5102e",
      "metadata": {
        "tags": [],
        "id": "3d6b2253-09e4-4cf0-99b1-227f9ba5102e",
        "outputId": "d6634fb2-e3b1-4d37-cd8d-75b90a12bb1e",
        "colab": {
          "base_uri": "https://localhost:8080/"
        }
      },
      "outputs": [
        {
          "output_type": "execute_result",
          "data": {
            "text/plain": [
              "24"
            ]
          },
          "metadata": {},
          "execution_count": 32
        }
      ],
      "source": [
        "arr[2][4]"
      ]
    },
    {
      "cell_type": "code",
      "execution_count": 33,
      "id": "0548d707-4809-44e8-99c5-16773c7183a5",
      "metadata": {
        "tags": [],
        "id": "0548d707-4809-44e8-99c5-16773c7183a5"
      },
      "outputs": [],
      "source": [
        "arr=arr.reshape(9,2,5)"
      ]
    },
    {
      "cell_type": "code",
      "execution_count": 34,
      "id": "642fdc71-171e-4dbe-8931-b78e962d259b",
      "metadata": {
        "tags": [],
        "id": "642fdc71-171e-4dbe-8931-b78e962d259b",
        "outputId": "9a0ab583-0889-4351-e597-d65470ac88e4",
        "colab": {
          "base_uri": "https://localhost:8080/"
        }
      },
      "outputs": [
        {
          "output_type": "execute_result",
          "data": {
            "text/plain": [
              "array([[[ 0,  1,  2,  3,  4],\n",
              "        [ 5,  6,  7,  8,  9]],\n",
              "\n",
              "       [[10, 11, 12, 13, 14],\n",
              "        [15, 16, 17, 18, 19]],\n",
              "\n",
              "       [[20, 21, 22, 23, 24],\n",
              "        [25, 26, 27, 28, 29]],\n",
              "\n",
              "       [[30, 31, 32, 33, 34],\n",
              "        [35, 36, 37, 38, 39]],\n",
              "\n",
              "       [[40, 41, 42, 43, 44],\n",
              "        [45, 46, 47, 48, 49]],\n",
              "\n",
              "       [[50, 51, 52, 53, 54],\n",
              "        [55, 56, 57, 58, 59]],\n",
              "\n",
              "       [[60, 61, 62, 63, 64],\n",
              "        [65, 66, 67, 68, 69]],\n",
              "\n",
              "       [[70, 71, 72, 73, 74],\n",
              "        [75, 76, 77, 78, 79]],\n",
              "\n",
              "       [[80, 81, 82, 83, 84],\n",
              "        [85, 86, 87, 88, 89]]])"
            ]
          },
          "metadata": {},
          "execution_count": 34
        }
      ],
      "source": [
        "arr"
      ]
    },
    {
      "cell_type": "code",
      "execution_count": 35,
      "id": "cd9e6074-7008-4d55-b0cf-a13a447bfce9",
      "metadata": {
        "tags": [],
        "id": "cd9e6074-7008-4d55-b0cf-a13a447bfce9",
        "outputId": "7e6f1e10-43af-4ae2-9454-7cab9fb7262c",
        "colab": {
          "base_uri": "https://localhost:8080/"
        }
      },
      "outputs": [
        {
          "output_type": "execute_result",
          "data": {
            "text/plain": [
              "array([[70, 71, 72, 73, 74],\n",
              "       [75, 76, 77, 78, 79]])"
            ]
          },
          "metadata": {},
          "execution_count": 35
        }
      ],
      "source": [
        "arr[7]"
      ]
    },
    {
      "cell_type": "code",
      "execution_count": 36,
      "id": "6890c94a-7c13-483a-a6a3-d40309d68822",
      "metadata": {
        "tags": [],
        "id": "6890c94a-7c13-483a-a6a3-d40309d68822",
        "outputId": "175980b0-d87f-4284-fc66-b2082f738ff3",
        "colab": {
          "base_uri": "https://localhost:8080/"
        }
      },
      "outputs": [
        {
          "output_type": "execute_result",
          "data": {
            "text/plain": [
              "array([30, 31, 32, 33, 34])"
            ]
          },
          "metadata": {},
          "execution_count": 36
        }
      ],
      "source": [
        "arr[3][0]"
      ]
    }
  ],
  "metadata": {
    "kernelspec": {
      "display_name": "Python 3 (ipykernel)",
      "language": "python",
      "name": "python3"
    },
    "language_info": {
      "codemirror_mode": {
        "name": "ipython",
        "version": 3
      },
      "file_extension": ".py",
      "mimetype": "text/x-python",
      "name": "python",
      "nbconvert_exporter": "python",
      "pygments_lexer": "ipython3",
      "version": "3.11.5"
    },
    "colab": {
      "provenance": [],
      "include_colab_link": true
    }
  },
  "nbformat": 4,
  "nbformat_minor": 5
}