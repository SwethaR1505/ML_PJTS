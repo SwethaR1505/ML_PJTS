{
  "cells": [
    {
      "cell_type": "markdown",
      "metadata": {
        "id": "view-in-github",
        "colab_type": "text"
      },
      "source": [
        "<a href=\"https://colab.research.google.com/github/SwethaR1505/ML_PJTS/blob/main/arrayFunctions.ipynb\" target=\"_parent\"><img src=\"https://colab.research.google.com/assets/colab-badge.svg\" alt=\"Open In Colab\"/></a>"
      ]
    },
    {
      "cell_type": "code",
      "execution_count": 3,
      "id": "c207d551-ecf7-48ca-9be0-9d157c09bf03",
      "metadata": {
        "tags": [],
        "id": "c207d551-ecf7-48ca-9be0-9d157c09bf03"
      },
      "outputs": [],
      "source": [
        "import numpy as np"
      ]
    },
    {
      "cell_type": "code",
      "execution_count": 4,
      "id": "c928c111-fb1c-4203-87ca-4fea357866d2",
      "metadata": {
        "tags": [],
        "colab": {
          "base_uri": "https://localhost:8080/"
        },
        "id": "c928c111-fb1c-4203-87ca-4fea357866d2",
        "outputId": "ba38bf18-0ca7-4f58-8151-786378bc5724"
      },
      "outputs": [
        {
          "output_type": "execute_result",
          "data": {
            "text/plain": [
              "3"
            ]
          },
          "metadata": {},
          "execution_count": 4
        }
      ],
      "source": [
        "np.random.randint(12)"
      ]
    },
    {
      "cell_type": "code",
      "execution_count": 5,
      "id": "1a6cdb19-0938-4df2-b80e-b23e7092955f",
      "metadata": {
        "tags": [],
        "id": "1a6cdb19-0938-4df2-b80e-b23e7092955f"
      },
      "outputs": [],
      "source": [
        "arr1=np.random.randn(12)"
      ]
    },
    {
      "cell_type": "code",
      "execution_count": 6,
      "id": "723aeffb-a735-4778-8a00-973cedc9c42d",
      "metadata": {
        "tags": [],
        "colab": {
          "base_uri": "https://localhost:8080/"
        },
        "id": "723aeffb-a735-4778-8a00-973cedc9c42d",
        "outputId": "b9f4a985-ff27-40e5-8b9b-f64d94a7042e"
      },
      "outputs": [
        {
          "output_type": "execute_result",
          "data": {
            "text/plain": [
              "array([ 0.59416542, -0.47928126,  0.22716832, -0.69354103,  0.1772666 ,\n",
              "        0.78655583, -1.00145225,  0.07193503, -0.11612422, -1.17807205,\n",
              "       -1.0857957 , -1.1773654 ])"
            ]
          },
          "metadata": {},
          "execution_count": 6
        }
      ],
      "source": [
        "arr1"
      ]
    },
    {
      "cell_type": "code",
      "execution_count": 7,
      "id": "de08cdad-6cfa-41b6-acfc-1c47f2ccdfe0",
      "metadata": {
        "tags": [],
        "colab": {
          "base_uri": "https://localhost:8080/"
        },
        "id": "de08cdad-6cfa-41b6-acfc-1c47f2ccdfe0",
        "outputId": "ba913a26-7409-450f-9d28-d7b4a407db92"
      },
      "outputs": [
        {
          "output_type": "stream",
          "name": "stderr",
          "text": [
            "<ipython-input-7-31bdbbe4b4c3>:1: RuntimeWarning: invalid value encountered in sqrt\n",
            "  np.sqrt(arr1)\n"
          ]
        },
        {
          "output_type": "execute_result",
          "data": {
            "text/plain": [
              "array([0.77082126,        nan, 0.47662178,        nan, 0.4210304 ,\n",
              "       0.88687983,        nan, 0.26820707,        nan,        nan,\n",
              "              nan,        nan])"
            ]
          },
          "metadata": {},
          "execution_count": 7
        }
      ],
      "source": [
        "np.sqrt(arr1)"
      ]
    },
    {
      "cell_type": "code",
      "execution_count": 8,
      "id": "919eca77-01ef-4a69-a013-43708f627ac3",
      "metadata": {
        "tags": [],
        "colab": {
          "base_uri": "https://localhost:8080/"
        },
        "id": "919eca77-01ef-4a69-a013-43708f627ac3",
        "outputId": "6ce905d1-7a5d-4dd5-dcac-76272bf95f13"
      },
      "outputs": [
        {
          "output_type": "execute_result",
          "data": {
            "text/plain": [
              "array([1.81151846, 0.61922829, 1.2550411 , 0.49980311, 1.19394935,\n",
              "       2.19582062, 0.36734558, 1.07458553, 0.89036462, 0.30787173,\n",
              "       0.33763302, 0.30808936])"
            ]
          },
          "metadata": {},
          "execution_count": 8
        }
      ],
      "source": [
        "np.exp(arr1)"
      ]
    },
    {
      "cell_type": "code",
      "execution_count": 9,
      "id": "bcd11c47-9d33-4a0e-ba7e-6cb3c447e1c8",
      "metadata": {
        "tags": [],
        "id": "bcd11c47-9d33-4a0e-ba7e-6cb3c447e1c8"
      },
      "outputs": [],
      "source": [
        "arr2=np.random.randn(12)"
      ]
    },
    {
      "cell_type": "code",
      "execution_count": 10,
      "id": "7a58ae78-10a1-4868-becd-bf88b3664157",
      "metadata": {
        "tags": [],
        "colab": {
          "base_uri": "https://localhost:8080/"
        },
        "id": "7a58ae78-10a1-4868-becd-bf88b3664157",
        "outputId": "9cbbc538-a917-4b71-9501-609c3a50b705"
      },
      "outputs": [
        {
          "output_type": "execute_result",
          "data": {
            "text/plain": [
              "array([-0.74183502,  1.78005766, -0.35268111,  0.91303388,  0.21862578,\n",
              "        1.12794485, -1.11982911, -0.25148693, -0.56624532, -0.9560084 ,\n",
              "       -0.54131994,  0.66425528])"
            ]
          },
          "metadata": {},
          "execution_count": 10
        }
      ],
      "source": [
        "arr2"
      ]
    },
    {
      "cell_type": "code",
      "execution_count": 11,
      "id": "96a4220f-85a4-4129-80d3-dd28ac700d4c",
      "metadata": {
        "tags": [],
        "colab": {
          "base_uri": "https://localhost:8080/"
        },
        "id": "96a4220f-85a4-4129-80d3-dd28ac700d4c",
        "outputId": "7f97afa4-1613-4cf7-afb2-ca597fdcb79d"
      },
      "outputs": [
        {
          "output_type": "execute_result",
          "data": {
            "text/plain": [
              "array([-0.1476696 ,  1.30077639, -0.12551279,  0.21949285,  0.39589238,\n",
              "        1.91450068, -2.12128136, -0.17955189, -0.68236954, -2.13408045,\n",
              "       -1.62711564, -0.51311012])"
            ]
          },
          "metadata": {},
          "execution_count": 11
        }
      ],
      "source": [
        "np.add(arr1,arr2)"
      ]
    },
    {
      "cell_type": "code",
      "execution_count": 12,
      "id": "2fb14496-6ef1-4f75-8bca-49a2ff1a39dc",
      "metadata": {
        "tags": [],
        "colab": {
          "base_uri": "https://localhost:8080/"
        },
        "id": "2fb14496-6ef1-4f75-8bca-49a2ff1a39dc",
        "outputId": "f3ffa38c-a34e-474e-b465-82c836a1c166"
      },
      "outputs": [
        {
          "output_type": "execute_result",
          "data": {
            "text/plain": [
              "array([-0.74183502, -0.47928126, -0.35268111, -0.69354103,  0.1772666 ,\n",
              "        0.78655583, -1.11982911, -0.25148693, -0.56624532, -1.17807205,\n",
              "       -1.0857957 , -1.1773654 ])"
            ]
          },
          "metadata": {},
          "execution_count": 12
        }
      ],
      "source": [
        "np.minimum(arr1,arr2)"
      ]
    },
    {
      "cell_type": "code",
      "execution_count": 13,
      "id": "5af99c19-c079-400c-9d36-f791e6f5db37",
      "metadata": {
        "tags": [],
        "colab": {
          "base_uri": "https://localhost:8080/"
        },
        "id": "5af99c19-c079-400c-9d36-f791e6f5db37",
        "outputId": "d0b93018-7bc1-48af-dd6a-2f85c244b537"
      },
      "outputs": [
        {
          "output_type": "execute_result",
          "data": {
            "text/plain": [
              "array([ 0.59416542,  1.78005766,  0.22716832,  0.91303388,  0.21862578,\n",
              "        1.12794485, -1.00145225,  0.07193503, -0.11612422, -0.9560084 ,\n",
              "       -0.54131994,  0.66425528])"
            ]
          },
          "metadata": {},
          "execution_count": 13
        }
      ],
      "source": [
        "np.maximum(arr1,arr2)"
      ]
    }
  ],
  "metadata": {
    "kernelspec": {
      "display_name": "Python 3 (ipykernel)",
      "language": "python",
      "name": "python3"
    },
    "language_info": {
      "codemirror_mode": {
        "name": "ipython",
        "version": 3
      },
      "file_extension": ".py",
      "mimetype": "text/x-python",
      "name": "python",
      "nbconvert_exporter": "python",
      "pygments_lexer": "ipython3",
      "version": "3.11.5"
    },
    "colab": {
      "provenance": [],
      "include_colab_link": true
    }
  },
  "nbformat": 4,
  "nbformat_minor": 5
}