{
  "cells": [
    {
      "cell_type": "markdown",
      "metadata": {
        "id": "view-in-github",
        "colab_type": "text"
      },
      "source": [
        "<a href=\"https://colab.research.google.com/github/SwethaR1505/ML_PJTS/blob/main/arraystatistics.ipynb\" target=\"_parent\"><img src=\"https://colab.research.google.com/assets/colab-badge.svg\" alt=\"Open In Colab\"/></a>"
      ]
    },
    {
      "cell_type": "code",
      "execution_count": 1,
      "id": "9ad87908-7256-4513-ba69-c27fc37f3629",
      "metadata": {
        "tags": [],
        "id": "9ad87908-7256-4513-ba69-c27fc37f3629"
      },
      "outputs": [],
      "source": [
        "import numpy as np\n"
      ]
    },
    {
      "cell_type": "code",
      "execution_count": 2,
      "id": "541e9ce9-fe8a-4097-9de7-b445c05f2f0c",
      "metadata": {
        "tags": [],
        "id": "541e9ce9-fe8a-4097-9de7-b445c05f2f0c"
      },
      "outputs": [],
      "source": [
        "arr=np.random.randn(4,4)"
      ]
    },
    {
      "cell_type": "code",
      "execution_count": 3,
      "id": "4e46309b-5c15-456b-b580-4205b63959da",
      "metadata": {
        "tags": [],
        "colab": {
          "base_uri": "https://localhost:8080/"
        },
        "id": "4e46309b-5c15-456b-b580-4205b63959da",
        "outputId": "93a597bc-207a-4e07-bd53-dca9f91efb7c"
      },
      "outputs": [
        {
          "output_type": "execute_result",
          "data": {
            "text/plain": [
              "array([[-0.36028233, -1.28447653, -1.2941907 , -0.39352281],\n",
              "       [-0.16717845, -0.79696478,  0.04337812, -0.17699833],\n",
              "       [-0.18403912,  0.09021891,  0.3437557 , -0.5014089 ],\n",
              "       [-2.35016226,  0.93752102, -0.47240761,  0.29915826]])"
            ]
          },
          "metadata": {},
          "execution_count": 3
        }
      ],
      "source": [
        "arr"
      ]
    },
    {
      "cell_type": "code",
      "execution_count": 4,
      "id": "b9867e82-9bb8-4ee4-832d-9f27a231e7d3",
      "metadata": {
        "tags": [],
        "colab": {
          "base_uri": "https://localhost:8080/"
        },
        "id": "b9867e82-9bb8-4ee4-832d-9f27a231e7d3",
        "outputId": "43a92355-1404-43f5-c611-f5fc4aede888"
      },
      "outputs": [
        {
          "output_type": "execute_result",
          "data": {
            "text/plain": [
              "-6.2675998148865215"
            ]
          },
          "metadata": {},
          "execution_count": 4
        }
      ],
      "source": [
        "arr.sum()"
      ]
    },
    {
      "cell_type": "code",
      "execution_count": 5,
      "id": "9be91569-87a8-4584-a6a2-d62c886721cb",
      "metadata": {
        "tags": [],
        "colab": {
          "base_uri": "https://localhost:8080/"
        },
        "id": "9be91569-87a8-4584-a6a2-d62c886721cb",
        "outputId": "2d8c1579-4873-4339-b6c5-0a3729d7b01c"
      },
      "outputs": [
        {
          "output_type": "execute_result",
          "data": {
            "text/plain": [
              "-0.3917249884304076"
            ]
          },
          "metadata": {},
          "execution_count": 5
        }
      ],
      "source": [
        "arr.mean()"
      ]
    },
    {
      "cell_type": "code",
      "execution_count": 6,
      "id": "7c355c71-5123-4977-9f41-fe60943545d8",
      "metadata": {
        "tags": [],
        "colab": {
          "base_uri": "https://localhost:8080/"
        },
        "id": "7c355c71-5123-4977-9f41-fe60943545d8",
        "outputId": "8776f0aa-88dc-4dcc-c809-9039ab7afd02"
      },
      "outputs": [
        {
          "output_type": "execute_result",
          "data": {
            "text/plain": [
              "0.561066925123979"
            ]
          },
          "metadata": {},
          "execution_count": 6
        }
      ],
      "source": [
        "arr.var()"
      ]
    },
    {
      "cell_type": "code",
      "execution_count": 7,
      "id": "9a803b8c-c625-40e2-a854-3b2be72a6dcc",
      "metadata": {
        "tags": [],
        "colab": {
          "base_uri": "https://localhost:8080/"
        },
        "id": "9a803b8c-c625-40e2-a854-3b2be72a6dcc",
        "outputId": "c13227d6-e478-407c-9a47-a535700cc987"
      },
      "outputs": [
        {
          "output_type": "execute_result",
          "data": {
            "text/plain": [
              "0.7490440074681721"
            ]
          },
          "metadata": {},
          "execution_count": 7
        }
      ],
      "source": [
        "arr.std()"
      ]
    },
    {
      "cell_type": "code",
      "execution_count": 8,
      "id": "36595223-fe64-48d6-b032-213cfe53d48a",
      "metadata": {
        "tags": [],
        "colab": {
          "base_uri": "https://localhost:8080/"
        },
        "id": "36595223-fe64-48d6-b032-213cfe53d48a",
        "outputId": "3035b6ca-cb91-4d10-eee3-c54a6a3c54ff"
      },
      "outputs": [
        {
          "output_type": "execute_result",
          "data": {
            "text/plain": [
              "(array([0, 0, 0, 0, 1, 1, 1, 2, 2, 3, 3]),\n",
              " array([0, 1, 2, 3, 0, 1, 3, 0, 3, 0, 2]))"
            ]
          },
          "metadata": {},
          "execution_count": 8
        }
      ],
      "source": [
        "np.where(arr<0)\n"
      ]
    },
    {
      "cell_type": "code",
      "execution_count": 9,
      "id": "9b38771d-d1b4-42c8-9615-7285e6d06673",
      "metadata": {
        "tags": [],
        "colab": {
          "base_uri": "https://localhost:8080/"
        },
        "id": "9b38771d-d1b4-42c8-9615-7285e6d06673",
        "outputId": "4228daca-07fa-451c-cdac-25be5f4955c9"
      },
      "outputs": [
        {
          "output_type": "execute_result",
          "data": {
            "text/plain": [
              "array([[0.        , 0.        , 0.        , 0.        ],\n",
              "       [0.        , 0.        , 0.04337812, 0.        ],\n",
              "       [0.        , 0.09021891, 0.3437557 , 0.        ],\n",
              "       [0.        , 0.93752102, 0.        , 0.29915826]])"
            ]
          },
          "metadata": {},
          "execution_count": 9
        }
      ],
      "source": [
        "np.where(arr<0,0,arr)"
      ]
    },
    {
      "cell_type": "code",
      "execution_count": 10,
      "id": "bda3beac-4878-43fd-b625-674779000326",
      "metadata": {
        "tags": [],
        "id": "bda3beac-4878-43fd-b625-674779000326"
      },
      "outputs": [],
      "source": [
        "arr.sort()"
      ]
    },
    {
      "cell_type": "code",
      "execution_count": 11,
      "id": "67700521-8b5e-49ec-86a5-6955f5dbfb25",
      "metadata": {
        "tags": [],
        "colab": {
          "base_uri": "https://localhost:8080/"
        },
        "id": "67700521-8b5e-49ec-86a5-6955f5dbfb25",
        "outputId": "b9980da3-73f5-4948-b50b-19a07ca39c80"
      },
      "outputs": [
        {
          "output_type": "execute_result",
          "data": {
            "text/plain": [
              "array([[-1.2941907 , -1.28447653, -0.39352281, -0.36028233],\n",
              "       [-0.79696478, -0.17699833, -0.16717845,  0.04337812],\n",
              "       [-0.5014089 , -0.18403912,  0.09021891,  0.3437557 ],\n",
              "       [-2.35016226, -0.47240761,  0.29915826,  0.93752102]])"
            ]
          },
          "metadata": {},
          "execution_count": 11
        }
      ],
      "source": [
        "arr"
      ]
    },
    {
      "cell_type": "code",
      "execution_count": 11,
      "id": "b4f46e8f-a857-4e28-ba51-b11e15a7e0c1",
      "metadata": {
        "id": "b4f46e8f-a857-4e28-ba51-b11e15a7e0c1"
      },
      "outputs": [],
      "source": []
    }
  ],
  "metadata": {
    "kernelspec": {
      "display_name": "Python 3 (ipykernel)",
      "language": "python",
      "name": "python3"
    },
    "language_info": {
      "codemirror_mode": {
        "name": "ipython",
        "version": 3
      },
      "file_extension": ".py",
      "mimetype": "text/x-python",
      "name": "python",
      "nbconvert_exporter": "python",
      "pygments_lexer": "ipython3",
      "version": "3.11.5"
    },
    "colab": {
      "provenance": [],
      "include_colab_link": true
    }
  },
  "nbformat": 4,
  "nbformat_minor": 5
}