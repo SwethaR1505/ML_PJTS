{
  "cells": [
    {
      "cell_type": "markdown",
      "metadata": {
        "id": "view-in-github",
        "colab_type": "text"
      },
      "source": [
        "<a href=\"https://colab.research.google.com/github/SwethaR1505/ML_PJTS/blob/main/ArrayTranspose.ipynb\" target=\"_parent\"><img src=\"https://colab.research.google.com/assets/colab-badge.svg\" alt=\"Open In Colab\"/></a>"
      ]
    },
    {
      "cell_type": "code",
      "execution_count": 1,
      "id": "aba44ad8-60fb-4720-927a-8bd5919ef3ad",
      "metadata": {
        "tags": [],
        "id": "aba44ad8-60fb-4720-927a-8bd5919ef3ad"
      },
      "outputs": [],
      "source": [
        "import numpy as np"
      ]
    },
    {
      "cell_type": "code",
      "execution_count": 2,
      "id": "b8d3e081-1bcd-426e-bfb7-42f50dea15cc",
      "metadata": {
        "tags": [],
        "id": "b8d3e081-1bcd-426e-bfb7-42f50dea15cc"
      },
      "outputs": [],
      "source": [
        "arr=np.array([34,456,78,987,23,34])"
      ]
    },
    {
      "cell_type": "code",
      "execution_count": 3,
      "id": "016804d3-667f-458f-8ddb-e37abe2b2bbb",
      "metadata": {
        "tags": [],
        "colab": {
          "base_uri": "https://localhost:8080/"
        },
        "id": "016804d3-667f-458f-8ddb-e37abe2b2bbb",
        "outputId": "04bdaee5-73ea-4663-d8a3-6d05d5e5d1dd"
      },
      "outputs": [
        {
          "output_type": "execute_result",
          "data": {
            "text/plain": [
              "array([ 34, 456,  78, 987,  23,  34])"
            ]
          },
          "metadata": {},
          "execution_count": 3
        }
      ],
      "source": [
        "arr.T"
      ]
    },
    {
      "cell_type": "code",
      "execution_count": 4,
      "id": "08a0b405-f8ad-4fbe-b0df-2c1833900a0f",
      "metadata": {
        "tags": [],
        "id": "08a0b405-f8ad-4fbe-b0df-2c1833900a0f"
      },
      "outputs": [],
      "source": [
        "arr=np.arange(40).reshape(4,10)"
      ]
    },
    {
      "cell_type": "code",
      "execution_count": 5,
      "id": "98e8861a-eaf7-4281-abc2-bbb8088f982b",
      "metadata": {
        "tags": [],
        "colab": {
          "base_uri": "https://localhost:8080/"
        },
        "id": "98e8861a-eaf7-4281-abc2-bbb8088f982b",
        "outputId": "4d0c38ce-0924-4197-bae2-a7ab09ed19d9"
      },
      "outputs": [
        {
          "output_type": "execute_result",
          "data": {
            "text/plain": [
              "array([[ 0,  1,  2,  3,  4,  5,  6,  7,  8,  9],\n",
              "       [10, 11, 12, 13, 14, 15, 16, 17, 18, 19],\n",
              "       [20, 21, 22, 23, 24, 25, 26, 27, 28, 29],\n",
              "       [30, 31, 32, 33, 34, 35, 36, 37, 38, 39]])"
            ]
          },
          "metadata": {},
          "execution_count": 5
        }
      ],
      "source": [
        "arr"
      ]
    },
    {
      "cell_type": "code",
      "execution_count": 6,
      "id": "e4bd7a35-17a9-47be-be8f-2e5736edaea0",
      "metadata": {
        "tags": [],
        "id": "e4bd7a35-17a9-47be-be8f-2e5736edaea0"
      },
      "outputs": [],
      "source": [
        "arr=np.arange(40).reshape(4,5,2)"
      ]
    },
    {
      "cell_type": "code",
      "execution_count": 7,
      "id": "7b1f4a30-253d-473d-beb7-9c91366b08f3",
      "metadata": {
        "tags": [],
        "colab": {
          "base_uri": "https://localhost:8080/"
        },
        "id": "7b1f4a30-253d-473d-beb7-9c91366b08f3",
        "outputId": "413698fd-eadb-4a66-e170-582983249120"
      },
      "outputs": [
        {
          "output_type": "execute_result",
          "data": {
            "text/plain": [
              "array([[[ 0, 10, 20, 30],\n",
              "        [ 2, 12, 22, 32],\n",
              "        [ 4, 14, 24, 34],\n",
              "        [ 6, 16, 26, 36],\n",
              "        [ 8, 18, 28, 38]],\n",
              "\n",
              "       [[ 1, 11, 21, 31],\n",
              "        [ 3, 13, 23, 33],\n",
              "        [ 5, 15, 25, 35],\n",
              "        [ 7, 17, 27, 37],\n",
              "        [ 9, 19, 29, 39]]])"
            ]
          },
          "metadata": {},
          "execution_count": 7
        }
      ],
      "source": [
        "arr.transpose()"
      ]
    },
    {
      "cell_type": "code",
      "execution_count": 8,
      "id": "9c3e500e-c7e2-4c67-a395-39c73ed5c70e",
      "metadata": {
        "tags": [],
        "colab": {
          "base_uri": "https://localhost:8080/"
        },
        "id": "9c3e500e-c7e2-4c67-a395-39c73ed5c70e",
        "outputId": "0343664c-ed2e-4658-e02f-20549cefee9c"
      },
      "outputs": [
        {
          "output_type": "execute_result",
          "data": {
            "text/plain": [
              "array([[[ 0,  1],\n",
              "        [ 2,  3],\n",
              "        [ 4,  5],\n",
              "        [ 6,  7],\n",
              "        [ 8,  9]],\n",
              "\n",
              "       [[10, 11],\n",
              "        [12, 13],\n",
              "        [14, 15],\n",
              "        [16, 17],\n",
              "        [18, 19]],\n",
              "\n",
              "       [[20, 21],\n",
              "        [22, 23],\n",
              "        [24, 25],\n",
              "        [26, 27],\n",
              "        [28, 29]],\n",
              "\n",
              "       [[30, 31],\n",
              "        [32, 33],\n",
              "        [34, 35],\n",
              "        [36, 37],\n",
              "        [38, 39]]])"
            ]
          },
          "metadata": {},
          "execution_count": 8
        }
      ],
      "source": [
        "arr"
      ]
    },
    {
      "cell_type": "code",
      "execution_count": 9,
      "id": "a0b28341-04ea-4049-aed2-2c1bb86c0d8a",
      "metadata": {
        "tags": [],
        "colab": {
          "base_uri": "https://localhost:8080/"
        },
        "id": "a0b28341-04ea-4049-aed2-2c1bb86c0d8a",
        "outputId": "45fe41b6-c55b-43e6-f717-5bed410a7eae"
      },
      "outputs": [
        {
          "output_type": "execute_result",
          "data": {
            "text/plain": [
              "array([[[ 0,  1],\n",
              "        [10, 11],\n",
              "        [20, 21],\n",
              "        [30, 31]],\n",
              "\n",
              "       [[ 2,  3],\n",
              "        [12, 13],\n",
              "        [22, 23],\n",
              "        [32, 33]],\n",
              "\n",
              "       [[ 4,  5],\n",
              "        [14, 15],\n",
              "        [24, 25],\n",
              "        [34, 35]],\n",
              "\n",
              "       [[ 6,  7],\n",
              "        [16, 17],\n",
              "        [26, 27],\n",
              "        [36, 37]],\n",
              "\n",
              "       [[ 8,  9],\n",
              "        [18, 19],\n",
              "        [28, 29],\n",
              "        [38, 39]]])"
            ]
          },
          "metadata": {},
          "execution_count": 9
        }
      ],
      "source": [
        "arr.transpose((1,0,2))"
      ]
    }
  ],
  "metadata": {
    "kernelspec": {
      "display_name": "Python 3 (ipykernel)",
      "language": "python",
      "name": "python3"
    },
    "language_info": {
      "codemirror_mode": {
        "name": "ipython",
        "version": 3
      },
      "file_extension": ".py",
      "mimetype": "text/x-python",
      "name": "python",
      "nbconvert_exporter": "python",
      "pygments_lexer": "ipython3",
      "version": "3.11.5"
    },
    "colab": {
      "provenance": [],
      "include_colab_link": true
    }
  },
  "nbformat": 4,
  "nbformat_minor": 5
}